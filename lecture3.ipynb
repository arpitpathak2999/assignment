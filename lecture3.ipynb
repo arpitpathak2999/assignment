{
 "cells": [
  {
   "cell_type": "code",
   "execution_count": 5,
   "id": "45677855-e5eb-4759-80bc-be3896f5caed",
   "metadata": {},
   "outputs": [
    {
     "data": {
      "text/plain": [
       "dict"
      ]
     },
     "execution_count": 5,
     "metadata": {},
     "output_type": "execute_result"
    }
   ],
   "source": [
    "d = {}\n",
    "type(d)"
   ]
  },
  {
   "cell_type": "code",
   "execution_count": 6,
   "id": "5c1e42c6-4ad6-4e2a-a5db-d75deeb0d7c6",
   "metadata": {},
   "outputs": [],
   "source": [
    "d1 = {'key' : \"arpit\"}"
   ]
  },
  {
   "cell_type": "code",
   "execution_count": 7,
   "id": "2e88be2b-a893-45e5-982b-aaa64983256d",
   "metadata": {},
   "outputs": [
    {
     "data": {
      "text/plain": [
       "{'key': 'arpit'}"
      ]
     },
     "execution_count": 7,
     "metadata": {},
     "output_type": "execute_result"
    }
   ],
   "source": [
    "d1"
   ]
  },
  {
   "cell_type": "code",
   "execution_count": 8,
   "id": "848f5c7b-1fe4-4c2e-ac26-6664ecab43f5",
   "metadata": {},
   "outputs": [],
   "source": [
    "d2 = {'name' : \"arpit\" , 'city' : \" varansi\" , 'number' : 26238739278}"
   ]
  },
  {
   "cell_type": "code",
   "execution_count": 9,
   "id": "84e3e9b4-f647-4765-af1d-9397ea89e7dc",
   "metadata": {},
   "outputs": [
    {
     "data": {
      "text/plain": [
       "{'name': 'arpit', 'city': ' varansi', 'number': 26238739278}"
      ]
     },
     "execution_count": 9,
     "metadata": {},
     "output_type": "execute_result"
    }
   ],
   "source": [
    "d2"
   ]
  },
  {
   "cell_type": "code",
   "execution_count": 10,
   "id": "7442b86d-4c72-45c0-be5b-a28b0217fc2b",
   "metadata": {},
   "outputs": [],
   "source": [
    "d4 = {6363 : \"gsgs\"}"
   ]
  },
  {
   "cell_type": "code",
   "execution_count": 11,
   "id": "edd8d13e-1c5f-4375-8973-9f632ca09bbc",
   "metadata": {},
   "outputs": [
    {
     "data": {
      "text/plain": [
       "{6363: 'gsgs'}"
      ]
     },
     "execution_count": 11,
     "metadata": {},
     "output_type": "execute_result"
    }
   ],
   "source": [
    "d4"
   ]
  },
  {
   "cell_type": "code",
   "execution_count": 12,
   "id": "a9eee766-f18a-4e6e-b895-9f55ccf5cc4e",
   "metadata": {},
   "outputs": [],
   "source": [
    "d5 = {'@_' : 638782782, True : 2727827827 }"
   ]
  },
  {
   "cell_type": "code",
   "execution_count": 13,
   "id": "ba56f9aa-79b6-4c39-90a7-957b184b5aff",
   "metadata": {},
   "outputs": [
    {
     "data": {
      "text/plain": [
       "{'@_': 638782782, True: 2727827827}"
      ]
     },
     "execution_count": 13,
     "metadata": {},
     "output_type": "execute_result"
    }
   ],
   "source": [
    "d5"
   ]
  },
  {
   "cell_type": "code",
   "execution_count": 14,
   "id": "4bcd4000-3bc0-4083-87d5-ed936aa6edd3",
   "metadata": {},
   "outputs": [],
   "source": [
    "d6 = {356 : \"sudh\" , '_wer' : \"kumar\" , True : 5267728273 , False : \"rajeev pathak\"}"
   ]
  },
  {
   "cell_type": "code",
   "execution_count": 15,
   "id": "cd8779ec-4095-43cc-b6cf-80228747b9c2",
   "metadata": {},
   "outputs": [
    {
     "data": {
      "text/plain": [
       "{356: 'sudh', '_wer': 'kumar', True: 5267728273, False: 'rajeev pathak'}"
      ]
     },
     "execution_count": 15,
     "metadata": {},
     "output_type": "execute_result"
    }
   ],
   "source": [
    "d6"
   ]
  },
  {
   "cell_type": "code",
   "execution_count": 16,
   "id": "7d593096-421b-4124-adf8-21b1a9dce15f",
   "metadata": {},
   "outputs": [
    {
     "data": {
      "text/plain": [
       "'sudh'"
      ]
     },
     "execution_count": 16,
     "metadata": {},
     "output_type": "execute_result"
    }
   ],
   "source": [
    "d6[356]"
   ]
  },
  {
   "cell_type": "code",
   "execution_count": 17,
   "id": "5fdaef93-5a6e-4c47-8c61-c7159cdd99cd",
   "metadata": {},
   "outputs": [
    {
     "data": {
      "text/plain": [
       "5267728273"
      ]
     },
     "execution_count": 17,
     "metadata": {},
     "output_type": "execute_result"
    }
   ],
   "source": [
    "d6[1]"
   ]
  },
  {
   "cell_type": "code",
   "execution_count": 18,
   "id": "ef8b6d2b-125d-4644-bd3b-179f2d8b879d",
   "metadata": {},
   "outputs": [
    {
     "data": {
      "text/plain": [
       "'rajeev pathak'"
      ]
     },
     "execution_count": 18,
     "metadata": {},
     "output_type": "execute_result"
    }
   ],
   "source": [
    "d6[0]"
   ]
  },
  {
   "cell_type": "code",
   "execution_count": 19,
   "id": "d7f03193-7580-4cf0-a0c7-c506690b62bf",
   "metadata": {},
   "outputs": [
    {
     "data": {
      "text/plain": [
       "'kumar'"
      ]
     },
     "execution_count": 19,
     "metadata": {},
     "output_type": "execute_result"
    }
   ],
   "source": [
    "d6['_wer']"
   ]
  },
  {
   "cell_type": "code",
   "execution_count": 20,
   "id": "d6d6271a-5268-443a-b853-d17c8985b7f9",
   "metadata": {},
   "outputs": [],
   "source": [
    "d0 = {'name' : \"arpit\" , 'mail_id' : \"arpitpathak@gmail.com\" , \"name\" : \"ghhhjhhjhj\"}"
   ]
  },
  {
   "cell_type": "code",
   "execution_count": 21,
   "id": "35c43188-afcf-4846-a6fb-ddf3669a9e7b",
   "metadata": {},
   "outputs": [
    {
     "data": {
      "text/plain": [
       "{'name': 'ghhhjhhjhj', 'mail_id': 'arpitpathak@gmail.com'}"
      ]
     },
     "execution_count": 21,
     "metadata": {},
     "output_type": "execute_result"
    }
   ],
   "source": [
    "d0"
   ]
  },
  {
   "cell_type": "code",
   "execution_count": 22,
   "id": "423e11fc-5d33-4277-a62f-adb06ce34b16",
   "metadata": {},
   "outputs": [
    {
     "data": {
      "text/plain": [
       "'ghhhjhhjhj'"
      ]
     },
     "execution_count": 22,
     "metadata": {},
     "output_type": "execute_result"
    }
   ],
   "source": [
    "d0['name']"
   ]
  },
  {
   "cell_type": "code",
   "execution_count": 23,
   "id": "b43fcf85-74d8-4391-9377-bed21c0c8acc",
   "metadata": {},
   "outputs": [],
   "source": [
    "d5 = {'company' : \"pwskills\" , 'course' : [\"web developmement\" , \" data science\" , \"jave with system designe\"]}"
   ]
  },
  {
   "cell_type": "code",
   "execution_count": 24,
   "id": "7f6e9f3d-10dc-411e-9fd8-791f27cf5759",
   "metadata": {},
   "outputs": [
    {
     "data": {
      "text/plain": [
       "{'company': 'pwskills',\n",
       " 'course': ['web developmement', ' data science', 'jave with system designe']}"
      ]
     },
     "execution_count": 24,
     "metadata": {},
     "output_type": "execute_result"
    }
   ],
   "source": [
    "d5"
   ]
  },
  {
   "cell_type": "code",
   "execution_count": 25,
   "id": "1e3e6cc9-6f06-4f41-a0ca-7da8a964c7c2",
   "metadata": {},
   "outputs": [
    {
     "data": {
      "text/plain": [
       "['web developmement', ' data science', 'jave with system designe']"
      ]
     },
     "execution_count": 25,
     "metadata": {},
     "output_type": "execute_result"
    }
   ],
   "source": [
    "d5['course']"
   ]
  },
  {
   "cell_type": "code",
   "execution_count": 26,
   "id": "7d8bca9e-7160-4bc2-9f04-fb6ad74202be",
   "metadata": {},
   "outputs": [
    {
     "data": {
      "text/plain": [
       "'jave with system designe'"
      ]
     },
     "execution_count": 26,
     "metadata": {},
     "output_type": "execute_result"
    }
   ],
   "source": [
    "d5['course'][2]"
   ]
  },
  {
   "cell_type": "code",
   "execution_count": 27,
   "id": "eec0d8d2-23f4-47d2-aeb7-e10423ed4a8e",
   "metadata": {},
   "outputs": [],
   "source": [
    "d6 = {\"number\" : [2,554,654,467,5432], 'assignment' :(1,2,3,4), 'launch_date' : {28,12,30} , 'class_time' : {'math' : 8, 'chemistry' : 9, 'physics' : 10}}"
   ]
  },
  {
   "cell_type": "code",
   "execution_count": 28,
   "id": "b7cb039e-0267-4525-848d-9fa2bad65365",
   "metadata": {},
   "outputs": [
    {
     "data": {
      "text/plain": [
       "{'number': [2, 554, 654, 467, 5432],\n",
       " 'assignment': (1, 2, 3, 4),\n",
       " 'launch_date': {12, 28, 30},\n",
       " 'class_time': {'math': 8, 'chemistry': 9, 'physics': 10}}"
      ]
     },
     "execution_count": 28,
     "metadata": {},
     "output_type": "execute_result"
    }
   ],
   "source": [
    "d6"
   ]
  },
  {
   "cell_type": "code",
   "execution_count": 29,
   "id": "7392e59c-430b-4c93-bb1a-ffbfba146301",
   "metadata": {},
   "outputs": [],
   "source": [
    "#how to get 10 out "
   ]
  },
  {
   "cell_type": "code",
   "execution_count": 30,
   "id": "5164f984-1137-4e53-9a5f-504a70e551c6",
   "metadata": {},
   "outputs": [
    {
     "data": {
      "text/plain": [
       "{'math': 8, 'chemistry': 9, 'physics': 10}"
      ]
     },
     "execution_count": 30,
     "metadata": {},
     "output_type": "execute_result"
    }
   ],
   "source": [
    "d6['class_time']"
   ]
  },
  {
   "cell_type": "code",
   "execution_count": 31,
   "id": "8cb4e851-17e8-4e2b-b259-1229ef026e2b",
   "metadata": {},
   "outputs": [
    {
     "data": {
      "text/plain": [
       "10"
      ]
     },
     "execution_count": 31,
     "metadata": {},
     "output_type": "execute_result"
    }
   ],
   "source": [
    "d6['class_time']['physics']"
   ]
  },
  {
   "cell_type": "code",
   "execution_count": 32,
   "id": "df0d5914-149a-4a4c-a8b9-c09b356e7930",
   "metadata": {},
   "outputs": [],
   "source": [
    "d6['mentor'] = [\"shudhanshu\", \"krish\" , \"anurag\" , \"hayder\"]"
   ]
  },
  {
   "cell_type": "code",
   "execution_count": 33,
   "id": "33e45251-222b-44ea-b040-d3f8ab9273f6",
   "metadata": {},
   "outputs": [
    {
     "data": {
      "text/plain": [
       "{'number': [2, 554, 654, 467, 5432],\n",
       " 'assignment': (1, 2, 3, 4),\n",
       " 'launch_date': {12, 28, 30},\n",
       " 'class_time': {'math': 8, 'chemistry': 9, 'physics': 10},\n",
       " 'mentor': ['shudhanshu', 'krish', 'anurag', 'hayder']}"
      ]
     },
     "execution_count": 33,
     "metadata": {},
     "output_type": "execute_result"
    }
   ],
   "source": [
    "d6"
   ]
  },
  {
   "cell_type": "code",
   "execution_count": 34,
   "id": "0ba551f3-daf9-47f9-81fd-377c37373d2b",
   "metadata": {},
   "outputs": [],
   "source": [
    "del d6['number']"
   ]
  },
  {
   "cell_type": "code",
   "execution_count": 35,
   "id": "d142f3ed-e58d-42e2-910b-1356352bc8df",
   "metadata": {},
   "outputs": [
    {
     "data": {
      "text/plain": [
       "{'assignment': (1, 2, 3, 4),\n",
       " 'launch_date': {12, 28, 30},\n",
       " 'class_time': {'math': 8, 'chemistry': 9, 'physics': 10},\n",
       " 'mentor': ['shudhanshu', 'krish', 'anurag', 'hayder']}"
      ]
     },
     "execution_count": 35,
     "metadata": {},
     "output_type": "execute_result"
    }
   ],
   "source": [
    "d6"
   ]
  },
  {
   "cell_type": "code",
   "execution_count": 36,
   "id": "508ec0b0-362c-4f51-af1d-fc13ad1016f1",
   "metadata": {},
   "outputs": [
    {
     "data": {
      "text/plain": [
       "dict_keys(['assignment', 'launch_date', 'class_time', 'mentor'])"
      ]
     },
     "execution_count": 36,
     "metadata": {},
     "output_type": "execute_result"
    }
   ],
   "source": [
    "d6.keys()"
   ]
  },
  {
   "cell_type": "code",
   "execution_count": 37,
   "id": "aa948492-5b32-407a-90c5-3cd19164fcd1",
   "metadata": {},
   "outputs": [
    {
     "data": {
      "text/plain": [
       "['assignment', 'launch_date', 'class_time', 'mentor']"
      ]
     },
     "execution_count": 37,
     "metadata": {},
     "output_type": "execute_result"
    }
   ],
   "source": [
    "list(d6.keys())"
   ]
  },
  {
   "cell_type": "code",
   "execution_count": 38,
   "id": "0fd26e44-6416-46ae-aa99-757bb7b4955b",
   "metadata": {},
   "outputs": [
    {
     "data": {
      "text/plain": [
       "dict_values([(1, 2, 3, 4), {28, 12, 30}, {'math': 8, 'chemistry': 9, 'physics': 10}, ['shudhanshu', 'krish', 'anurag', 'hayder']])"
      ]
     },
     "execution_count": 38,
     "metadata": {},
     "output_type": "execute_result"
    }
   ],
   "source": [
    "d6.values()"
   ]
  },
  {
   "cell_type": "code",
   "execution_count": 40,
   "id": "e9a30d96-5d1d-451b-b919-b83576d777ad",
   "metadata": {},
   "outputs": [
    {
     "data": {
      "text/plain": [
       "['shudhanshu', 'krish', 'anurag', 'hayder']"
      ]
     },
     "execution_count": 40,
     "metadata": {},
     "output_type": "execute_result"
    }
   ],
   "source": [
    "d6.pop('mentor')"
   ]
  },
  {
   "cell_type": "code",
   "execution_count": 41,
   "id": "23cf4818-0e9b-4827-a8cf-15c72de4e212",
   "metadata": {},
   "outputs": [
    {
     "data": {
      "text/plain": [
       "{'assignment': (1, 2, 3, 4),\n",
       " 'launch_date': {12, 28, 30},\n",
       " 'class_time': {'math': 8, 'chemistry': 9, 'physics': 10}}"
      ]
     },
     "execution_count": 41,
     "metadata": {},
     "output_type": "execute_result"
    }
   ],
   "source": [
    "d6"
   ]
  },
  {
   "cell_type": "code",
   "execution_count": 42,
   "id": "54334a5d-a409-47c5-a6a5-ed15c529a6c1",
   "metadata": {},
   "outputs": [
    {
     "data": {
      "text/plain": [
       "dict_items([('assignment', (1, 2, 3, 4)), ('launch_date', {28, 12, 30}), ('class_time', {'math': 8, 'chemistry': 9, 'physics': 10})])"
      ]
     },
     "execution_count": 42,
     "metadata": {},
     "output_type": "execute_result"
    }
   ],
   "source": [
    "d6.items()"
   ]
  },
  {
   "cell_type": "code",
   "execution_count": 48,
   "id": "eb241626-5e3d-4e1a-ad9f-6d4a4a612d9a",
   "metadata": {},
   "outputs": [
    {
     "data": {
      "text/plain": [
       "[('assignment', (1, 2, 3, 4)),\n",
       " ('launch_date', {12, 28, 30}),\n",
       " ('class_time', {'math': 8, 'chemistry': 9, 'physics': 10})]"
      ]
     },
     "execution_count": 48,
     "metadata": {},
     "output_type": "execute_result"
    }
   ],
   "source": [
    "list(d6.items())"
   ]
  },
  {
   "cell_type": "code",
   "execution_count": null,
   "id": "13abb83d-6fa5-4df1-82df-526b732d46f3",
   "metadata": {},
   "outputs": [],
   "source": []
  },
  {
   "cell_type": "code",
   "execution_count": 90,
   "id": "9d512db1-c9fb-4d83-8558-a61a1146871f",
   "metadata": {},
   "outputs": [],
   "source": [
    "                                #condition loop"
   ]
  },
  {
   "cell_type": "code",
   "execution_count": 63,
   "id": "f8aa9a08-09b5-4a61-9e0e-5eae4c36e74a",
   "metadata": {},
   "outputs": [
    {
     "name": "stdin",
     "output_type": "stream",
     "text": [
      "enter the mark :  87\n"
     ]
    },
    {
     "name": "stdout",
     "output_type": "stream",
     "text": [
      "you will be part of A0 batch\n"
     ]
    }
   ],
   "source": [
    "#mark = 78\n",
    "mark = int(input(\"enter the mark : \")) #direct input nhi le sakte hai hm log kyoki direct input str value deta hai esliye hm, log typecasting karenge\n",
    "if mark >= 80:\n",
    "     print(\"you will be part of A0 batch\")     \n",
    "elif mark >= 60 and mark <80 :\n",
    "    print(\"you will be part of a1 batch\")\n",
    "elif mark >=40 and mark <60 :\n",
    "    print(\"you will be the part of A2 batch\")\n",
    "else :\n",
    "    print(\" you will be the part of a3 batch\")\n",
    "    \n",
    "    \n",
    "        \n",
    "        \n",
    "        "
   ]
  },
  {
   "cell_type": "code",
   "execution_count": 64,
   "id": "ee9700ad-06c4-4690-9fa4-d586b89c65fd",
   "metadata": {},
   "outputs": [
    {
     "name": "stdin",
     "output_type": "stream",
     "text": [
      " enter the mark :  56\n"
     ]
    }
   ],
   "source": [
    "mark = input(\" enter the mark : \")"
   ]
  },
  {
   "cell_type": "code",
   "execution_count": 65,
   "id": "4767ecae-826f-460d-9d89-b4cf8b6d4029",
   "metadata": {},
   "outputs": [
    {
     "data": {
      "text/plain": [
       "'56'"
      ]
     },
     "execution_count": 65,
     "metadata": {},
     "output_type": "execute_result"
    }
   ],
   "source": [
    "mark"
   ]
  },
  {
   "cell_type": "code",
   "execution_count": 66,
   "id": "be965c2a-9db5-4c35-bd53-898159fc6c86",
   "metadata": {},
   "outputs": [
    {
     "data": {
      "text/plain": [
       "str"
      ]
     },
     "execution_count": 66,
     "metadata": {},
     "output_type": "execute_result"
    }
   ],
   "source": [
    "type(mark)"
   ]
  },
  {
   "cell_type": "code",
   "execution_count": 67,
   "id": "96331f13-09c0-425a-9a15-7bd59e7251ce",
   "metadata": {},
   "outputs": [
    {
     "name": "stdin",
     "output_type": "stream",
     "text": [
      "enter the price :  547\n"
     ]
    },
    {
     "name": "stdout",
     "output_type": "stream",
     "text": [
      "i will purchase \n"
     ]
    }
   ],
   "source": [
    "price = int(input(\"enter the price : \"))\n",
    "if price > 1000 :\n",
    "    print(\" i will not purchase \")\n",
    "else : \n",
    "    print(\"i will purchase \")"
   ]
  },
  {
   "cell_type": "code",
   "execution_count": 74,
   "id": "47e7d19f-05c6-4b82-b798-9c43d7a4ffdc",
   "metadata": {},
   "outputs": [
    {
     "name": "stdin",
     "output_type": "stream",
     "text": [
      "enter the price :  3556\n"
     ]
    },
    {
     "name": "stdout",
     "output_type": "stream",
     "text": [
      "i will not purchase\n",
      "this is high but not too much\n"
     ]
    }
   ],
   "source": [
    "price = int(input(\"enter the price : \"))\n",
    "if price > 1000 : \n",
    "    print(\"i will not purchase\")\n",
    "    if price >5000 :   #nested if else\n",
    "        print(\"this is too much\")\n",
    "    elif  1000 < price <  5000  :\n",
    "        print(\"this is high but not too much\")\n",
    "else : \n",
    "    print(\" i will purchase\")"
   ]
  },
  {
   "cell_type": "code",
   "execution_count": 75,
   "id": "7a14ffd0-6766-4b9a-b27f-5078684e95b6",
   "metadata": {},
   "outputs": [],
   "source": [
    "l = [1,2,3,4,5,6,7,8]"
   ]
  },
  {
   "cell_type": "code",
   "execution_count": 76,
   "id": "b3fa9cd3-f026-4f26-b5c6-c560cfa93b45",
   "metadata": {},
   "outputs": [
    {
     "data": {
      "text/plain": [
       "2"
      ]
     },
     "execution_count": 76,
     "metadata": {},
     "output_type": "execute_result"
    }
   ],
   "source": [
    "l[0] +1"
   ]
  },
  {
   "cell_type": "code",
   "execution_count": 84,
   "id": "793429be-d3dd-41d7-9a24-19080874d26d",
   "metadata": {},
   "outputs": [],
   "source": [
    "l2 = []"
   ]
  },
  {
   "cell_type": "code",
   "execution_count": 85,
   "id": "fa368f27-a28c-4206-bcd8-8ed08cf15527",
   "metadata": {},
   "outputs": [],
   "source": [
    "l2.append(l[0] +1)"
   ]
  },
  {
   "cell_type": "code",
   "execution_count": 86,
   "id": "0f7d40b1-995e-4a24-9984-34619431deb1",
   "metadata": {},
   "outputs": [
    {
     "data": {
      "text/plain": [
       "[2]"
      ]
     },
     "execution_count": 86,
     "metadata": {},
     "output_type": "execute_result"
    }
   ],
   "source": [
    "l2"
   ]
  },
  {
   "cell_type": "code",
   "execution_count": null,
   "id": "234f440e-b25f-4845-a6a1-37ed6ffff629",
   "metadata": {},
   "outputs": [],
   "source": []
  },
  {
   "cell_type": "code",
   "execution_count": null,
   "id": "960e8a89-a9b4-4364-99b2-6ec3362962a1",
   "metadata": {},
   "outputs": [],
   "source": []
  },
  {
   "cell_type": "code",
   "execution_count": 87,
   "id": "313d433e-ce26-4136-be52-613eaf4a871d",
   "metadata": {},
   "outputs": [],
   "source": [
    "             \n",
    "                                            #loop"
   ]
  },
  {
   "cell_type": "code",
   "execution_count": null,
   "id": "46186cb9-92b9-4359-aedd-8d935107e3b3",
   "metadata": {},
   "outputs": [],
   "source": []
  },
  {
   "cell_type": "code",
   "execution_count": 88,
   "id": "c17ec738-9a9d-4a07-a3dd-b6631dddde27",
   "metadata": {},
   "outputs": [
    {
     "data": {
      "text/plain": [
       "[1, 2, 3, 4, 5, 6, 7, 8]"
      ]
     },
     "execution_count": 88,
     "metadata": {},
     "output_type": "execute_result"
    }
   ],
   "source": [
    "l # l ke sare data me + karo then final list print karo"
   ]
  },
  {
   "cell_type": "code",
   "execution_count": 92,
   "id": "4e139b83-3cf9-4429-ac61-689d326fa409",
   "metadata": {},
   "outputs": [
    {
     "name": "stdout",
     "output_type": "stream",
     "text": [
      "2\n",
      "3\n",
      "4\n",
      "5\n",
      "6\n",
      "7\n",
      "8\n",
      "9\n"
     ]
    }
   ],
   "source": [
    "for i in l: # here l i9s list\n",
    "    print(i + 1)"
   ]
  },
  {
   "cell_type": "code",
   "execution_count": 93,
   "id": "c78f0edf-294a-449d-8e8f-2504d1fb34fe",
   "metadata": {},
   "outputs": [
    {
     "data": {
      "text/plain": [
       "[1, 2, 3, 4, 5, 6, 7, 8]"
      ]
     },
     "execution_count": 93,
     "metadata": {},
     "output_type": "execute_result"
    }
   ],
   "source": [
    "l"
   ]
  },
  {
   "cell_type": "code",
   "execution_count": 96,
   "id": "693dfc87-53e1-4c5a-9a92-91222c6e07ce",
   "metadata": {},
   "outputs": [
    {
     "name": "stdout",
     "output_type": "stream",
     "text": [
      "2\n",
      "3\n",
      "4\n",
      "5\n",
      "6\n",
      "7\n",
      "8\n",
      "9\n"
     ]
    },
    {
     "data": {
      "text/plain": [
       "[2, 3, 4, 5, 6, 7, 8, 9]"
      ]
     },
     "execution_count": 96,
     "metadata": {},
     "output_type": "execute_result"
    }
   ],
   "source": [
    "l3 = []\n",
    "for i in l: \n",
    "    print(i +1)\n",
    "    l3.append(i+1)\n",
    "    \n",
    "l3    "
   ]
  },
  {
   "cell_type": "code",
   "execution_count": 97,
   "id": "254b463a-9d8c-41db-9860-852dd054b695",
   "metadata": {},
   "outputs": [
    {
     "data": {
      "text/plain": [
       "[1, 2, 3, 4, 5, 6, 7, 8]"
      ]
     },
     "execution_count": 97,
     "metadata": {},
     "output_type": "execute_result"
    }
   ],
   "source": [
    "l"
   ]
  },
  {
   "cell_type": "code",
   "execution_count": 98,
   "id": "e555f152-45d4-441c-b1cc-289bb4a2383a",
   "metadata": {},
   "outputs": [
    {
     "data": {
      "text/plain": [
       "[2, 3, 4, 5, 6, 7, 8, 9]"
      ]
     },
     "execution_count": 98,
     "metadata": {},
     "output_type": "execute_result"
    }
   ],
   "source": [
    "l3"
   ]
  },
  {
   "cell_type": "code",
   "execution_count": 99,
   "id": "f0b33c17-0eef-4ddf-8217-2876cee2207c",
   "metadata": {},
   "outputs": [],
   "source": [
    "l = [\"sudh\", \"kumar\" , \"pwskills\", \"course\"] #convert this to uppercase and the give final list "
   ]
  },
  {
   "cell_type": "code",
   "execution_count": 109,
   "id": "794f1b1b-a876-4cd9-bc69-6b91be90baa4",
   "metadata": {},
   "outputs": [
    {
     "name": "stdout",
     "output_type": "stream",
     "text": [
      "sudh\n",
      "kumar\n",
      "pwskills\n",
      "course\n"
     ]
    }
   ],
   "source": [
    "l1 = []\n",
    "for i in l :\n",
    "    print(i)\n",
    "    l1.append(i.upper())\n",
    "    \n",
    "    "
   ]
  },
  {
   "cell_type": "code",
   "execution_count": 110,
   "id": "219e2622-5cc0-48ca-b438-cf4f1b1b652c",
   "metadata": {},
   "outputs": [
    {
     "data": {
      "text/plain": [
       "['SUDH', 'KUMAR', 'PWSKILLS', 'COURSE']"
      ]
     },
     "execution_count": 110,
     "metadata": {},
     "output_type": "execute_result"
    }
   ],
   "source": [
    "l1"
   ]
  },
  {
   "cell_type": "code",
   "execution_count": null,
   "id": "ed504419-e0a8-435d-ada2-f88d67844cb0",
   "metadata": {},
   "outputs": [],
   "source": []
  },
  {
   "cell_type": "code",
   "execution_count": 113,
   "id": "f0b9ec92-6f8f-4e21-8874-b47790244a38",
   "metadata": {},
   "outputs": [],
   "source": [
    "l = [1,2,3,4,4,\"arpit\" , \"kumar\" , 3676,6878.78,\"aqb\"] # make 2 seperate list from list ek me sirf int ho ur dusre me sirf str ho"
   ]
  },
  {
   "cell_type": "code",
   "execution_count": 116,
   "id": "b7bcb99b-69f9-43dc-8b08-0c088a10f399",
   "metadata": {},
   "outputs": [],
   "source": [
    "l1_num = []\n",
    "l2_str = []\n",
    "for i in l :\n",
    "    if type(i) == int or type(i) == float :\n",
    "        l1_num.append(i)\n",
    "    else :\n",
    "        l2_str.append(i)\n",
    "    "
   ]
  },
  {
   "cell_type": "code",
   "execution_count": 117,
   "id": "bc0eba53-7c88-470b-8d83-65c13cac5430",
   "metadata": {},
   "outputs": [
    {
     "data": {
      "text/plain": [
       "[1, 2, 3, 4, 4, 3676, 6878.78]"
      ]
     },
     "execution_count": 117,
     "metadata": {},
     "output_type": "execute_result"
    }
   ],
   "source": [
    "l1_num"
   ]
  },
  {
   "cell_type": "code",
   "execution_count": 118,
   "id": "98072fe7-83e3-416e-80e3-4a27ad9f56e5",
   "metadata": {},
   "outputs": [
    {
     "data": {
      "text/plain": [
       "['arpit', 'kumar', 'aqb']"
      ]
     },
     "execution_count": 118,
     "metadata": {},
     "output_type": "execute_result"
    }
   ],
   "source": [
    "l2_str"
   ]
  },
  {
   "cell_type": "code",
   "execution_count": null,
   "id": "cf54c670-3fac-483d-9389-c4ff24f5f937",
   "metadata": {},
   "outputs": [],
   "source": [
    "\n"
   ]
  },
  {
   "cell_type": "code",
   "execution_count": null,
   "id": "ba9ffb5c-9fc0-4307-b922-1d7368ab9497",
   "metadata": {},
   "outputs": [],
   "source": []
  }
 ],
 "metadata": {
  "kernelspec": {
   "display_name": "Python 3 (ipykernel)",
   "language": "python",
   "name": "python3"
  },
  "language_info": {
   "codemirror_mode": {
    "name": "ipython",
    "version": 3
   },
   "file_extension": ".py",
   "mimetype": "text/x-python",
   "name": "python",
   "nbconvert_exporter": "python",
   "pygments_lexer": "ipython3",
   "version": "3.10.8"
  }
 },
 "nbformat": 4,
 "nbformat_minor": 5
}
